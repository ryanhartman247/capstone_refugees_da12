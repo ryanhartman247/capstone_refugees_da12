{
 "cells": [
  {
   "cell_type": "code",
   "execution_count": 1,
   "id": "b72512b8-4316-464b-93b9-744e8c845c98",
   "metadata": {},
   "outputs": [],
   "source": [
    "import pandas as pd\n",
    "import numpy as np\n",
    "import matplotlib.pyplot as plt\n",
    "import seaborn as sns"
   ]
  },
  {
   "cell_type": "code",
   "execution_count": 3,
   "id": "ae2ae39b-d28c-4cc8-a403-18c61ed4b981",
   "metadata": {},
   "outputs": [],
   "source": [
    "pd.set_option('display.max_rows', 500) \n",
    "pd.set_option('display.max_columns', 500) "
   ]
  },
  {
   "cell_type": "code",
   "execution_count": 11,
   "id": "d6d7b901-69a2-4a23-b5bc-857b4d9e3e5c",
   "metadata": {},
   "outputs": [],
   "source": [
    "app_df = pd.read_csv(r'C:\\DA12\\Projects\\capstone_refugees_da12\\data\\applications.csv', skiprows=11)"
   ]
  },
  {
   "cell_type": "code",
   "execution_count": 13,
   "id": "aec81bc4-d2d3-4a2a-8843-f7b3a0314d50",
   "metadata": {},
   "outputs": [
    {
     "data": {
      "text/html": [
       "<div>\n",
       "<style scoped>\n",
       "    .dataframe tbody tr th:only-of-type {\n",
       "        vertical-align: middle;\n",
       "    }\n",
       "\n",
       "    .dataframe tbody tr th {\n",
       "        vertical-align: top;\n",
       "    }\n",
       "\n",
       "    .dataframe thead th {\n",
       "        text-align: right;\n",
       "    }\n",
       "</style>\n",
       "<table border=\"1\" class=\"dataframe\">\n",
       "  <thead>\n",
       "    <tr style=\"text-align: right;\">\n",
       "      <th></th>\n",
       "      <th>2000</th>\n",
       "      <th>G</th>\n",
       "      <th>AR</th>\n",
       "      <th>C</th>\n",
       "      <th>18</th>\n",
       "      <th>0</th>\n",
       "      <th>514</th>\n",
       "      <th>53</th>\n",
       "      <th>585</th>\n",
       "    </tr>\n",
       "  </thead>\n",
       "  <tbody>\n",
       "    <tr>\n",
       "      <th>0</th>\n",
       "      <td>2000</td>\n",
       "      <td>G</td>\n",
       "      <td>AR</td>\n",
       "      <td>C</td>\n",
       "      <td>0</td>\n",
       "      <td>0</td>\n",
       "      <td>12</td>\n",
       "      <td>5</td>\n",
       "      <td>17</td>\n",
       "    </tr>\n",
       "    <tr>\n",
       "      <th>1</th>\n",
       "      <td>2000</td>\n",
       "      <td>G</td>\n",
       "      <td>AR</td>\n",
       "      <td>C</td>\n",
       "      <td>0</td>\n",
       "      <td>0</td>\n",
       "      <td>5</td>\n",
       "      <td>0</td>\n",
       "      <td>5</td>\n",
       "    </tr>\n",
       "    <tr>\n",
       "      <th>2</th>\n",
       "      <td>2000</td>\n",
       "      <td>G</td>\n",
       "      <td>AR</td>\n",
       "      <td>C</td>\n",
       "      <td>16</td>\n",
       "      <td>0</td>\n",
       "      <td>76</td>\n",
       "      <td>10</td>\n",
       "      <td>102</td>\n",
       "    </tr>\n",
       "    <tr>\n",
       "      <th>3</th>\n",
       "      <td>2000</td>\n",
       "      <td>G</td>\n",
       "      <td>AR</td>\n",
       "      <td>C</td>\n",
       "      <td>0</td>\n",
       "      <td>0</td>\n",
       "      <td>10</td>\n",
       "      <td>0</td>\n",
       "      <td>10</td>\n",
       "    </tr>\n",
       "    <tr>\n",
       "      <th>4</th>\n",
       "      <td>2000</td>\n",
       "      <td>G</td>\n",
       "      <td>AR</td>\n",
       "      <td>C</td>\n",
       "      <td>0</td>\n",
       "      <td>0</td>\n",
       "      <td>11</td>\n",
       "      <td>0</td>\n",
       "      <td>11</td>\n",
       "    </tr>\n",
       "  </tbody>\n",
       "</table>\n",
       "</div>"
      ],
      "text/plain": [
       "   2000  G  AR  C  18  0  514  53  585\n",
       "0  2000  G  AR  C   0  0   12   5   17\n",
       "1  2000  G  AR  C   0  0    5   0    5\n",
       "2  2000  G  AR  C  16  0   76  10  102\n",
       "3  2000  G  AR  C   0  0   10   0   10\n",
       "4  2000  G  AR  C   0  0   11   0   11"
      ]
     },
     "execution_count": 13,
     "metadata": {},
     "output_type": "execute_result"
    }
   ],
   "source": [
    "app_df.head()"
   ]
  },
  {
   "cell_type": "code",
   "execution_count": null,
   "id": "aeb3792c-05b5-4544-be10-cdba8535bf65",
   "metadata": {},
   "outputs": [],
   "source": []
  },
  {
   "cell_type": "code",
   "execution_count": null,
   "id": "260bdb9c-1a13-431c-aefe-5c9f96cedaf7",
   "metadata": {},
   "outputs": [],
   "source": []
  },
  {
   "cell_type": "code",
   "execution_count": null,
   "id": "2b5dea67-7880-445e-aca2-3d0d7b7bdce0",
   "metadata": {},
   "outputs": [],
   "source": []
  },
  {
   "cell_type": "code",
   "execution_count": null,
   "id": "8ad98bb9-c13e-4990-aa00-c36dce2dc113",
   "metadata": {},
   "outputs": [],
   "source": []
  },
  {
   "cell_type": "code",
   "execution_count": null,
   "id": "ece5a2b3-3cb7-4375-a8a2-ce7ef23f05ac",
   "metadata": {},
   "outputs": [],
   "source": []
  }
 ],
 "metadata": {
  "kernelspec": {
   "display_name": "Python 3 (ipykernel)",
   "language": "python",
   "name": "python3"
  },
  "language_info": {
   "codemirror_mode": {
    "name": "ipython",
    "version": 3
   },
   "file_extension": ".py",
   "mimetype": "text/x-python",
   "name": "python",
   "nbconvert_exporter": "python",
   "pygments_lexer": "ipython3",
   "version": "3.12.4"
  }
 },
 "nbformat": 4,
 "nbformat_minor": 5
}
